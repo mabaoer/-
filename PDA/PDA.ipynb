{
 "cells": [
  {
   "cell_type": "code",
   "execution_count": 1,
   "metadata": {},
   "outputs": [],
   "source": [
    "import numpy as np\n",
    "import queue"
   ]
  },
  {
   "cell_type": "code",
   "execution_count": 2,
   "metadata": {},
   "outputs": [],
   "source": [
    "class PDA():\n",
    "    def __init__(self, Q, sigma, gamma, delta, start_state, F):\n",
    "        self.Q = Q\n",
    "        self.sigma = sigma\n",
    "        self.gamma = gamma\n",
    "        self.delta = delta\n",
    "        self.start_state = start_state\n",
    "        self.F = F\n",
    "        self.stack = queue.LifoQueue()\n",
    "        \n",
    "    def input_string(self, string):\n",
    "        current_state = self.start_state\n",
    "        temp=0\n",
    "        while(temp<len(string)):\n",
    "            current_str = string[temp]\n",
    "            temp_delta = self.delta[self.Q.index(current_state)][self.sigma.index(current_str)]\n",
    "            if( (np.array(temp_delta) == 0).all()):\n",
    "                temp_delta = self.delta[self.Q.index(current_state)][self.sigma.index('null')]\n",
    "                if( (np.array(temp_delta) == 0).all()):\n",
    "                    print(\"拒绝！\")\n",
    "                    return 0\n",
    "                else:\n",
    "                    temp-=1\n",
    "                    index = self.find_index(temp_delta)\n",
    "                    current_state = temp_delta[index][0]\n",
    "                    if(self.gamma[index] != 'null'):\n",
    "                        temp = self.read_stack()\n",
    "                        if(temp!=self.gamma[index]):\n",
    "                            print(\"拒绝！\")\n",
    "                            return 0\n",
    "                        self.stack.get()   \n",
    "                    if(temp_delta[index][1] != 'null'):\n",
    "                        self.stack.put(temp_delta[index][1])\n",
    "            else:\n",
    "                index = self.find_index(temp_delta)\n",
    "                current_state = temp_delta[index][0]\n",
    "                if(self.gamma[index] != 'null'):\n",
    "                    if(self.read_stack()!=self.gamma[index]):\n",
    "                        temp_delta = self.delta[self.Q.index(current_state)][self.sigma.index('null')]\n",
    "                        if( (np.array(temp_delta) == 0).all()):\n",
    "                            print(\"拒绝！\")\n",
    "                            return 0\n",
    "                        else:\n",
    "                            temp-=1\n",
    "                            index = self.find_index(temp_delta)\n",
    "                            current_state = temp_delta[index][0]\n",
    "                            if(self.gamma[index] != 'null'):\n",
    "                                temp1 = self.read_stack()\n",
    "                                if(temp1!=self.gamma[index]):\n",
    "                                    print(\"拒绝！\")\n",
    "                                    return 0\n",
    "                                self.stack.get()   \n",
    "                            if(temp_delta[index][1] != 'null'):\n",
    "                                self.stack.put(temp_delta[index][1])\n",
    "                    else:\n",
    "                        index = self.find_index(temp_delta)\n",
    "                        current_state = temp_delta[index][0]\n",
    "                        if(self.gamma[index] != 'null'):\n",
    "                            temp1 = self.read_stack()\n",
    "                            if(temp1!=self.gamma[index]):\n",
    "                                print(\"拒绝！\")\n",
    "                                return 0\n",
    "                            self.stack.get()   \n",
    "                        if(temp_delta[index][1] != 'null'):\n",
    "                            self.stack.put(temp_delta[index][1])                        \n",
    "                if(temp_delta[index][1] != 'null'):\n",
    "                    self.stack.put(temp_delta[index][1])            \n",
    "            temp+=1\n",
    "            print(current_state,self.read_stack(),current_str)\n",
    "        while(1):                    \n",
    "            temp_delta = self.delta[self.Q.index(current_state)][self.sigma.index('null')]\n",
    "            index = self.find_index(temp_delta)\n",
    "            current_state = temp_delta[index][0]\n",
    "            if(self.gamma[index] != 'null'):\n",
    "                temp = self.read_stack()\n",
    "                if(temp!=self.gamma[index]):\n",
    "                    print(\"拒绝！\")\n",
    "                    return 0\n",
    "                self.stack.get()\n",
    "            if(temp_delta[index][1] != 'null'):\n",
    "                self.stack.put(temp_delta[index][1])\n",
    "            print(current_state,self.read_stack())\n",
    "            if((current_state in F)  and (self.read_stack() =='null')):\n",
    "                print('接受！')\n",
    "                return 1\n",
    "            \n",
    "    #def read_all_stack(self):\n",
    "        \n",
    "            \n",
    "    def read_stack(self):\n",
    "        if(self.stack.empty()):\n",
    "            return 'null'\n",
    "        else:\n",
    "            temp = self.stack.get()\n",
    "            self.stack.put(temp)\n",
    "            return temp\n",
    "        \n",
    "    def find_index(self, list):\n",
    "        for i in range(len(list)):\n",
    "            if(list[i]!=0):\n",
    "                return i"
   ]
  },
  {
   "cell_type": "code",
   "execution_count": 3,
   "metadata": {},
   "outputs": [],
   "source": [
    "Q = ['q1', 'q2', 'q3','q4']\n",
    "sigma = ['a','b','c','null']\n",
    "gamma = ['a','b','#','null']\n",
    "i=len(Q)\n",
    "j=len(sigma)\n",
    "k=len(gamma)\n",
    "delta=[[[0 for i in range(i)]for j in range(j)]for k in range(k)]\n",
    "delta = [[[0, 0, 0, 0], [0, 0, 0, 0], [0, 0, 0, 0], [0, 0, 0, ['q2', '#']]],\n",
    " [[0, 0, 0, ['q3', 'a']],\n",
    "  [0, 0, 0, ['q4', 'b']],\n",
    "  [0, 0, 0, ['q2', 'null']],\n",
    "  [0, 0, ['q2', 'null'], 0]],\n",
    " [[0, 0, 0, ['q3', 'a']],\n",
    "  [['q3', 'null'], 0, 0, 0],\n",
    "  [0, 0, 0, ['q3', 'null']],\n",
    "  [0, 0, 0, ['q2', 'null']]],\n",
    " [[0, ['q4', 'null'], 0, 0],\n",
    "  [0, 0, 0, ['q4', 'b']],\n",
    "  [0, 0, 0, ['q4', 'null']],\n",
    "  [0, 0, 0, ['q2', 'null']]]]\n",
    "start_state = 'q1'\n",
    "F = ['q2']\n",
    "PDA1 = PDA(Q,sigma,gamma,delta,start_state,F)"
   ]
  },
  {
   "cell_type": "code",
   "execution_count": 4,
   "metadata": {},
   "outputs": [
    {
     "name": "stdout",
     "output_type": "stream",
     "text": [
      "q2 # a\n",
      "q3 a a\n",
      "q3 # b\n",
      "q2 # b\n",
      "q4 b b\n",
      "q4 # a\n",
      "q2 # a\n",
      "q3 a a\n",
      "q2 a\n",
      "拒绝！\n"
     ]
    },
    {
     "name": "stderr",
     "output_type": "stream",
     "text": [
      "D:\\Anaconda\\lib\\site-packages\\ipykernel_launcher.py:19: VisibleDeprecationWarning: Creating an ndarray from ragged nested sequences (which is a list-or-tuple of lists-or-tuples-or ndarrays with different lengths or shapes) is deprecated. If you meant to do this, you must specify 'dtype=object' when creating the ndarray\n",
      "D:\\Anaconda\\lib\\site-packages\\ipykernel_launcher.py:17: VisibleDeprecationWarning: Creating an ndarray from ragged nested sequences (which is a list-or-tuple of lists-or-tuples-or ndarrays with different lengths or shapes) is deprecated. If you meant to do this, you must specify 'dtype=object' when creating the ndarray\n",
      "D:\\Anaconda\\lib\\site-packages\\ipykernel_launcher.py:40: VisibleDeprecationWarning: Creating an ndarray from ragged nested sequences (which is a list-or-tuple of lists-or-tuples-or ndarrays with different lengths or shapes) is deprecated. If you meant to do this, you must specify 'dtype=object' when creating the ndarray\n"
     ]
    },
    {
     "data": {
      "text/plain": [
       "0"
      ]
     },
     "execution_count": 4,
     "metadata": {},
     "output_type": "execute_result"
    }
   ],
   "source": [
    "PDA1.input_string('abbaa')"
   ]
  },
  {
   "cell_type": "code",
   "execution_count": 5,
   "metadata": {},
   "outputs": [],
   "source": [
    "#a=input()\n",
    "#while(a!='-1'):\n",
    "#    temp = a.split(',')\n",
    "#    i=Q.index(temp[0])\n",
    "#    j=sigma.index(temp[1])\n",
    "#    k=gamma.index(temp[2])\n",
    "#    delta[i][j][k]=[temp[3],temp[4]]\n",
    "#    a=input()\n",
    "#delta"
   ]
  },
  {
   "cell_type": "code",
   "execution_count": 6,
   "metadata": {},
   "outputs": [],
   "source": [
    "#delta = [[[0, 0, 0, 0], [0, 0, 0, 0], [0, 0, 0, 0], [0, 0, 0, ['q2', '#']]],\n",
    "# [[0, 0, 0, ['q3', 'a']],\n",
    "#  [0, 0, 0, ['q4', 'b']],\n",
    "#  [0, 0, 0, ['q2', 'null']],\n",
    "#  [0, 0, ['q2', 'null'], 0]],\n",
    "# [[0, 0, 0, ['q3', 'a']],\n",
    "#  [['q3', 'null'], 0, 0, 0],\n",
    "#  [0, 0, 0, ['q3', 'null']],\n",
    "#  [0, 0, ['q2', 'null'], 0]],\n",
    "# [[0, ['q4', 'null'], 0, 0],\n",
    "#  [0, 0, 0, ['q4', 'b']],\n",
    "#  [0, 0, 0, ['q4', 'null']],\n",
    "#  [0, 0, ['q2', 'null'], 0]]]"
   ]
  }
 ],
 "metadata": {
  "kernelspec": {
   "display_name": "Python 3",
   "language": "python",
   "name": "python3"
  },
  "language_info": {
   "codemirror_mode": {
    "name": "ipython",
    "version": 3
   },
   "file_extension": ".py",
   "mimetype": "text/x-python",
   "name": "python",
   "nbconvert_exporter": "python",
   "pygments_lexer": "ipython3",
   "version": "3.6.5"
  }
 },
 "nbformat": 4,
 "nbformat_minor": 2
}
